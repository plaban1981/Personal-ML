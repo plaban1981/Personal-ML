{
  "nbformat": 4,
  "nbformat_minor": 0,
  "metadata": {
    "colab": {
      "name": "Naive_Bayes_classification.ipynb",
      "provenance": [],
      "collapsed_sections": [],
      "toc_visible": true,
      "include_colab_link": true
    },
    "kernelspec": {
      "name": "python3",
      "display_name": "Python 3"
    },
    "accelerator": "GPU"
  },
  "cells": [
    {
      "cell_type": "markdown",
      "metadata": {
        "id": "view-in-github",
        "colab_type": "text"
      },
      "source": [
        "<a href=\"https://colab.research.google.com/github/plaban1981/Personal-ML/blob/master/Naive_Bayes_classification.ipynb\" target=\"_parent\"><img src=\"https://colab.research.google.com/assets/colab-badge.svg\" alt=\"Open In Colab\"/></a>"
      ]
    },
    {
      "cell_type": "markdown",
      "metadata": {
        "id": "Pmm8-8XpJcDf",
        "colab_type": "text"
      },
      "source": [
        "## Implementing Naive bayes using Scikit learn"
      ]
    },
    {
      "cell_type": "markdown",
      "metadata": {
        "id": "IXBlraAMJeIt",
        "colab_type": "text"
      },
      "source": [
        "#### there are three types of naive bayes in scikit learn\n",
        "\n",
        "- Multinomial. http://scikit-learn.org/stable/modules/generated/sklearn.naive_bayes.MultinomialNB.html\n",
        "\n",
        "- Bernoulli. http://scikit-learn.org/stable/modules/generated/sklearn.naive_bayes.BernoulliNB.html\n",
        "\n",
        "- Gaussian. http://scikit-learn.org/stable/modules/generated/sklearn.naive_bayes.GaussianNB.html"
      ]
    },
    {
      "cell_type": "markdown",
      "metadata": {
        "id": "M7D2tBR3JraQ",
        "colab_type": "text"
      },
      "source": [
        "https://github.com/2796gaurav/Naive-bayes-explained/blob/master/Naive%20bayes/Naive%20Bayes%20in%20scikit%20learn.ipynb"
      ]
    },
    {
      "cell_type": "markdown",
      "metadata": {
        "id": "4_ufij0Q2uOz",
        "colab_type": "text"
      },
      "source": [
        "#### Diabetes files consist of four fields per record. Each field is separated by a tab and each record is separated by a newline.\n",
        "\n",
        "File Names and format:\n",
        "(1) Date in MM-DD-YYYY format\n",
        "(2) Time in XX:YY format\n",
        "(3) Code\n",
        "(4) Value\n",
        "\n",
        "The Code field is deciphered as follows:\n",
        "\n",
        "- 33 = Regular insulin dose\n",
        "- 34 = NPH insulin dose\n",
        "- 35 = UltraLente insulin dose\n",
        "- 48 = Unspecified blood glucose measurement\n",
        "- 57 = Unspecified blood glucose measurement\n",
        "- 58 = Pre-breakfast blood glucose measurement\n",
        "- 59 = Post-breakfast blood glucose measurement\n",
        "- 60 = Pre-lunch blood glucose measurement\n",
        "- 61 = Post-lunch blood glucose measurement\n",
        "- 62 = Pre-supper blood glucose measurement\n",
        "- 63 = Post-supper blood glucose measurement\n",
        "- 64 = Pre-snack blood glucose measurement\n",
        "- 65 = Hypoglycemic symptoms\n",
        "- 66 = Typical meal ingestion\n",
        "- 67 = More-than-usual meal ingestion\n",
        "- 68 = Less-than-usual meal ingestion\n",
        "- 69 = Typical exercise activity\n",
        "- 70 = More-than-usual exercise activity\n",
        "- 71 = Less-than-usual exercise activity\n",
        "- 72 = Unspecified special event"
      ]
    },
    {
      "cell_type": "code",
      "metadata": {
        "id": "6BxoSf9mJuVo",
        "colab_type": "code",
        "colab": {}
      },
      "source": [
        "#from google.colab import files\n",
        "#files.upload()"
      ],
      "execution_count": 0,
      "outputs": []
    },
    {
      "cell_type": "markdown",
      "metadata": {
        "id": "vsYnk-raAR21",
        "colab_type": "text"
      },
      "source": [
        "## Import Libraries"
      ]
    },
    {
      "cell_type": "code",
      "metadata": {
        "id": "eEC3BYwtEU0a",
        "colab_type": "code",
        "colab": {}
      },
      "source": [
        "# import dependencies\n",
        "import numpy as np\n",
        "import pandas as pd\n",
        "import seaborn as sns\n",
        "import matplotlib.pyplot as plt\n",
        "%matplotlib inline"
      ],
      "execution_count": 0,
      "outputs": []
    },
    {
      "cell_type": "code",
      "metadata": {
        "id": "fmuzbzQmEjMB",
        "colab_type": "code",
        "colab": {
          "base_uri": "https://localhost:8080/",
          "height": 204
        },
        "outputId": "29061e53-166e-4c9a-ade5-91e49633c425"
      },
      "source": [
        "column = [\"Pregnancies\",\"Glucose\",\"BloodPressure\",\"SkinThickness\",\"Insulin\",\"BMI\",\"DiabetesPedigreeFunction\",\"Age\",\"Outcome\"]\n",
        "df = pd.read_csv('pima-indians-diabetes.data.csv',names=column)\n",
        "df.head()"
      ],
      "execution_count": 11,
      "outputs": [
        {
          "output_type": "execute_result",
          "data": {
            "text/html": [
              "<div>\n",
              "<style scoped>\n",
              "    .dataframe tbody tr th:only-of-type {\n",
              "        vertical-align: middle;\n",
              "    }\n",
              "\n",
              "    .dataframe tbody tr th {\n",
              "        vertical-align: top;\n",
              "    }\n",
              "\n",
              "    .dataframe thead th {\n",
              "        text-align: right;\n",
              "    }\n",
              "</style>\n",
              "<table border=\"1\" class=\"dataframe\">\n",
              "  <thead>\n",
              "    <tr style=\"text-align: right;\">\n",
              "      <th></th>\n",
              "      <th>Pregnancies</th>\n",
              "      <th>Glucose</th>\n",
              "      <th>BloodPressure</th>\n",
              "      <th>SkinThickness</th>\n",
              "      <th>Insulin</th>\n",
              "      <th>BMI</th>\n",
              "      <th>DiabetesPedigreeFunction</th>\n",
              "      <th>Age</th>\n",
              "      <th>Outcome</th>\n",
              "    </tr>\n",
              "  </thead>\n",
              "  <tbody>\n",
              "    <tr>\n",
              "      <th>0</th>\n",
              "      <td>6</td>\n",
              "      <td>148</td>\n",
              "      <td>72</td>\n",
              "      <td>35</td>\n",
              "      <td>0</td>\n",
              "      <td>33.6</td>\n",
              "      <td>0.627</td>\n",
              "      <td>50</td>\n",
              "      <td>1</td>\n",
              "    </tr>\n",
              "    <tr>\n",
              "      <th>1</th>\n",
              "      <td>1</td>\n",
              "      <td>85</td>\n",
              "      <td>66</td>\n",
              "      <td>29</td>\n",
              "      <td>0</td>\n",
              "      <td>26.6</td>\n",
              "      <td>0.351</td>\n",
              "      <td>31</td>\n",
              "      <td>0</td>\n",
              "    </tr>\n",
              "    <tr>\n",
              "      <th>2</th>\n",
              "      <td>8</td>\n",
              "      <td>183</td>\n",
              "      <td>64</td>\n",
              "      <td>0</td>\n",
              "      <td>0</td>\n",
              "      <td>23.3</td>\n",
              "      <td>0.672</td>\n",
              "      <td>32</td>\n",
              "      <td>1</td>\n",
              "    </tr>\n",
              "    <tr>\n",
              "      <th>3</th>\n",
              "      <td>1</td>\n",
              "      <td>89</td>\n",
              "      <td>66</td>\n",
              "      <td>23</td>\n",
              "      <td>94</td>\n",
              "      <td>28.1</td>\n",
              "      <td>0.167</td>\n",
              "      <td>21</td>\n",
              "      <td>0</td>\n",
              "    </tr>\n",
              "    <tr>\n",
              "      <th>4</th>\n",
              "      <td>0</td>\n",
              "      <td>137</td>\n",
              "      <td>40</td>\n",
              "      <td>35</td>\n",
              "      <td>168</td>\n",
              "      <td>43.1</td>\n",
              "      <td>2.288</td>\n",
              "      <td>33</td>\n",
              "      <td>1</td>\n",
              "    </tr>\n",
              "  </tbody>\n",
              "</table>\n",
              "</div>"
            ],
            "text/plain": [
              "   Pregnancies  Glucose  BloodPressure  ...  DiabetesPedigreeFunction  Age  Outcome\n",
              "0            6      148             72  ...                     0.627   50        1\n",
              "1            1       85             66  ...                     0.351   31        0\n",
              "2            8      183             64  ...                     0.672   32        1\n",
              "3            1       89             66  ...                     0.167   21        0\n",
              "4            0      137             40  ...                     2.288   33        1\n",
              "\n",
              "[5 rows x 9 columns]"
            ]
          },
          "metadata": {
            "tags": []
          },
          "execution_count": 11
        }
      ]
    },
    {
      "cell_type": "markdown",
      "metadata": {
        "id": "ioBTQ8bnFi6A",
        "colab_type": "text"
      },
      "source": [
        "## Visualization of the Class Label"
      ]
    },
    {
      "cell_type": "code",
      "metadata": {
        "id": "S0YvjbE6FXKG",
        "colab_type": "code",
        "colab": {
          "base_uri": "https://localhost:8080/",
          "height": 282
        },
        "outputId": "2e8f7979-9e3b-4231-83ea-0d701800d189"
      },
      "source": [
        "df.Outcome.value_counts().plot(kind='bar')"
      ],
      "execution_count": 13,
      "outputs": [
        {
          "output_type": "execute_result",
          "data": {
            "text/plain": [
              "<matplotlib.axes._subplots.AxesSubplot at 0x7fb756b9d828>"
            ]
          },
          "metadata": {
            "tags": []
          },
          "execution_count": 13
        },
        {
          "output_type": "display_data",
          "data": {
            "image/png": "[encoded data removed]",
            "text/plain": [
              "<Figure size 432x288 with 1 Axes>"
            ]
          },
          "metadata": {
            "tags": []
          }
        }
      ]
    },
    {
      "cell_type": "markdown",
      "metadata": {
        "id": "tgXDs_8YGCPU",
        "colab_type": "text"
      },
      "source": [
        "#### P(c|x) = P(x|c) * P(c) /P(x)\n",
        "\n",
        "\n",
        "\n",
        "- P(c|x) is the posterior probability of class c given predictor ( features).\n",
        "- P(c) is the probability of class.\n",
        "- P(x|c) is the likelihood which is the probability of predictor given class.\n",
        "- P(x) is the prior probability of predictor."
      ]
    },
    {
      "cell_type": "markdown",
      "metadata": {
        "id": "qR9Nn8dQRFLi",
        "colab_type": "text"
      },
      "source": [
        "## Identify Features and Labels "
      ]
    },
    {
      "cell_type": "code",
      "metadata": {
        "id": "fkwRm2wZGd-9",
        "colab_type": "code",
        "colab": {}
      },
      "source": [
        "X = df.drop('Outcome',axis=1)\n",
        "Y = df['Outcome']"
      ],
      "execution_count": 0,
      "outputs": []
    },
    {
      "cell_type": "markdown",
      "metadata": {
        "id": "hdULWYHUU44U",
        "colab_type": "text"
      },
      "source": [
        "## Test Train Split"
      ]
    },
    {
      "cell_type": "code",
      "metadata": {
        "id": "VvgDyWcfU63r",
        "colab_type": "code",
        "colab": {}
      },
      "source": [
        "from sklearn.model_selection import train_test_split\n",
        "X_train,X_test,y_train,y_test = train_test_split(X,Y,test_size=0.2,random_state=1)"
      ],
      "execution_count": 0,
      "outputs": []
    },
    {
      "cell_type": "markdown",
      "metadata": {
        "id": "axoody8OZTsB",
        "colab_type": "text"
      },
      "source": [
        "## Applying Gaussian NaiveBayes"
      ]
    },
    {
      "cell_type": "code",
      "metadata": {
        "id": "ae23nrc6Zari",
        "colab_type": "code",
        "colab": {
          "base_uri": "https://localhost:8080/",
          "height": 34
        },
        "outputId": "9003b240-f710-4814-9c23-7c3fcdfd307f"
      },
      "source": [
        "from sklearn.naive_bayes import GaussianNB\n",
        "gb = GaussianNB()\n",
        "gb.fit(X_train,y_train)"
      ],
      "execution_count": 19,
      "outputs": [
        {
          "output_type": "execute_result",
          "data": {
            "text/plain": [
              "GaussianNB(priors=None, var_smoothing=1e-09)"
            ]
          },
          "metadata": {
            "tags": []
          },
          "execution_count": 19
        }
      ]
    },
    {
      "cell_type": "markdown",
      "metadata": {
        "id": "6LWFX1CPaT2G",
        "colab_type": "text"
      },
      "source": [
        "## Predictions"
      ]
    },
    {
      "cell_type": "code",
      "metadata": {
        "id": "KaBZlAvaaWNU",
        "colab_type": "code",
        "colab": {}
      },
      "source": [
        "y_pred = gb.predict(X_test)\n",
        "y_pred_proba = gb.predict_proba(X_test)"
      ],
      "execution_count": 0,
      "outputs": []
    },
    {
      "cell_type": "markdown",
      "metadata": {
        "id": "1o9Y0zDKarUQ",
        "colab_type": "text"
      },
      "source": [
        "## Accuracy Score of the Classification Model"
      ]
    },
    {
      "cell_type": "code",
      "metadata": {
        "id": "WpgAkr7Ya8bD",
        "colab_type": "code",
        "colab": {}
      },
      "source": [
        "from sklearn.metrics import accuracy_score,confusion_matrix,classification_report"
      ],
      "execution_count": 0,
      "outputs": []
    },
    {
      "cell_type": "code",
      "metadata": {
        "id": "bUYjPLWXa3kN",
        "colab_type": "code",
        "colab": {
          "base_uri": "https://localhost:8080/",
          "height": 34
        },
        "outputId": "62836177-f01d-4005-9c59-574069c28667"
      },
      "source": [
        "print(f'Accuracy Score of the Gaussian Naive Bayes model {np.round(accuracy_score(y_pred,y_test)*100.0,2)}%')"
      ],
      "execution_count": 42,
      "outputs": [
        {
          "output_type": "stream",
          "text": [
            "Accuracy Score of the Gaussian Naive Bayes model 77.27%\n"
          ],
          "name": "stdout"
        }
      ]
    },
    {
      "cell_type": "markdown",
      "metadata": {
        "id": "nfPip6Hmbm4g",
        "colab_type": "text"
      },
      "source": [
        "## Confusion Matrix"
      ]
    },
    {
      "cell_type": "code",
      "metadata": {
        "id": "NqTvcWbGbo1Y",
        "colab_type": "code",
        "colab": {}
      },
      "source": [
        "cm = confusion_matrix(y_pred,y_test)"
      ],
      "execution_count": 0,
      "outputs": []
    },
    {
      "cell_type": "code",
      "metadata": {
        "id": "tb97wR2kcB6c",
        "colab_type": "code",
        "colab": {
          "base_uri": "https://localhost:8080/",
          "height": 51
        },
        "outputId": "396a4ce0-f44d-4313-81fc-187fdda41710"
      },
      "source": [
        "print(cm)"
      ],
      "execution_count": 27,
      "outputs": [
        {
          "output_type": "stream",
          "text": [
            "[[85 21]\n",
            " [14 34]]\n"
          ],
          "name": "stdout"
        }
      ]
    },
    {
      "cell_type": "markdown",
      "metadata": {
        "id": "2wMtxEsPcRl9",
        "colab_type": "text"
      },
      "source": [
        "## Transform to df for easier plotting"
      ]
    },
    {
      "cell_type": "code",
      "metadata": {
        "id": "x4N3hbnJcToe",
        "colab_type": "code",
        "colab": {}
      },
      "source": [
        "cm_df = pd.DataFrame(cm,index=['Not Diabetic','Diabetic'],\n",
        "                     columns=['Not Diabetic','Diabetic'])"
      ],
      "execution_count": 0,
      "outputs": []
    },
    {
      "cell_type": "code",
      "metadata": {
        "id": "g2rJkwe-c6cv",
        "colab_type": "code",
        "colab": {
          "base_uri": "https://localhost:8080/",
          "height": 68
        },
        "outputId": "533beef0-4183-4e22-dffd-1f7ddb3ab420"
      },
      "source": [
        "print(cm_df)"
      ],
      "execution_count": 31,
      "outputs": [
        {
          "output_type": "stream",
          "text": [
            "              Not Diabetic  Diabetic\n",
            "Not Diabetic            85        21\n",
            "Diabetic                14        34\n"
          ],
          "name": "stdout"
        }
      ]
    },
    {
      "cell_type": "code",
      "metadata": {
        "id": "axkrgOlZdRw6",
        "colab_type": "code",
        "colab": {
          "base_uri": "https://localhost:8080/",
          "height": 312
        },
        "outputId": "ecf9147b-a204-4b96-8ac6-07fc312bee7b"
      },
      "source": [
        "#pass fmt='g' to the heatmap call to keep numbers from going to scientific notation\n",
        "sns.heatmap(cm_df,annot=True,fmt='g')\n",
        "plt.title('Naive Bayes -Accuracy:{0:.3f}'.format(accuracy_score(y_test, y_pred)))\n",
        "plt.xlabel('Predicted Label')\n",
        "plt.ylabel('True Label')"
      ],
      "execution_count": 33,
      "outputs": [
        {
          "output_type": "execute_result",
          "data": {
            "text/plain": [
              "Text(33.0, 0.5, 'True Label')"
            ]
          },
          "metadata": {
            "tags": []
          },
          "execution_count": 33
        },
        {
          "output_type": "display_data",
          "data": {
            "image/png": "[encoded data removed]",
            "text/plain": [
              "<Figure size 432x288 with 2 Axes>"
            ]
          },
          "metadata": {
            "tags": []
          }
        }
      ]
    },
    {
      "cell_type": "markdown",
      "metadata": {
        "id": "3xKSrtsOeHvc",
        "colab_type": "text"
      },
      "source": [
        "## ROC Curve\n"
      ]
    },
    {
      "cell_type": "code",
      "metadata": {
        "id": "JNa9RhhoeNxk",
        "colab_type": "code",
        "colab": {
          "base_uri": "https://localhost:8080/",
          "height": 292
        },
        "outputId": "fedebc04-dabc-4c71-a755-e0e269889183"
      },
      "source": [
        "!pip install scikit-plot"
      ],
      "execution_count": 36,
      "outputs": [
        {
          "output_type": "stream",
          "text": [
            "Collecting scikit-plot\n",
            "  Downloading https://files.pythonhosted.org/packages/7c/47/32520e259340c140a4ad27c1b97050dd3254fdc517b1d59974d47037510e/scikit_plot-0.3.7-py3-none-any.whl\n",
            "Requirement already satisfied: joblib>=0.10 in /usr/local/lib/python3.6/dist-packages (from scikit-plot) (0.13.2)\n",
            "Requirement already satisfied: matplotlib>=1.4.0 in /usr/local/lib/python3.6/dist-packages (from scikit-plot) (3.0.3)\n",
            "Requirement already satisfied: scikit-learn>=0.18 in /usr/local/lib/python3.6/dist-packages (from scikit-plot) (0.21.3)\n",
            "Requirement already satisfied: scipy>=0.9 in /usr/local/lib/python3.6/dist-packages (from scikit-plot) (1.3.1)\n",
            "Requirement already satisfied: cycler>=0.10 in /usr/local/lib/python3.6/dist-packages (from matplotlib>=1.4.0->scikit-plot) (0.10.0)\n",
            "Requirement already satisfied: python-dateutil>=2.1 in /usr/local/lib/python3.6/dist-packages (from matplotlib>=1.4.0->scikit-plot) (2.5.3)\n",
            "Requirement already satisfied: pyparsing!=2.0.4,!=2.1.2,!=2.1.6,>=2.0.1 in /usr/local/lib/python3.6/dist-packages (from matplotlib>=1.4.0->scikit-plot) (2.4.2)\n",
            "Requirement already satisfied: numpy>=1.10.0 in /usr/local/lib/python3.6/dist-packages (from matplotlib>=1.4.0->scikit-plot) (1.16.5)\n",
            "Requirement already satisfied: kiwisolver>=1.0.1 in /usr/local/lib/python3.6/dist-packages (from matplotlib>=1.4.0->scikit-plot) (1.1.0)\n",
            "Requirement already satisfied: six in /usr/local/lib/python3.6/dist-packages (from cycler>=0.10->matplotlib>=1.4.0->scikit-plot) (1.12.0)\n",
            "Requirement already satisfied: setuptools in /usr/local/lib/python3.6/dist-packages (from kiwisolver>=1.0.1->matplotlib>=1.4.0->scikit-plot) (41.2.0)\n",
            "Installing collected packages: scikit-plot\n",
            "Successfully installed scikit-plot-0.3.7\n"
          ],
          "name": "stdout"
        }
      ]
    },
    {
      "cell_type": "code",
      "metadata": {
        "id": "FRCQmwSRjX_N",
        "colab_type": "code",
        "colab": {
          "base_uri": "https://localhost:8080/",
          "height": 312
        },
        "outputId": "61afcccc-7135-401f-cf68-44e80177ed03"
      },
      "source": [
        "import scikitplot\n",
        "scikitplot.metrics.plot_roc(y_test,y_pred_proba)"
      ],
      "execution_count": 37,
      "outputs": [
        {
          "output_type": "execute_result",
          "data": {
            "text/plain": [
              "<matplotlib.axes._subplots.AxesSubplot at 0x7fb74ed05a58>"
            ]
          },
          "metadata": {
            "tags": []
          },
          "execution_count": 37
        },
        {
          "output_type": "display_data",
          "data": {
            "image/png": "[encoded data removed]",
            "text/plain": [
              "<Figure size 432x288 with 1 Axes>"
            ]
          },
          "metadata": {
            "tags": []
          }
        }
      ]
    },
    {
      "cell_type": "markdown",
      "metadata": {
        "id": "VU3XAJd3o4Iw",
        "colab_type": "text"
      },
      "source": [
        "## Lets test our model with random input"
      ]
    },
    {
      "cell_type": "code",
      "metadata": {
        "id": "Sc-OqmC4pH9z",
        "colab_type": "code",
        "colab": {
          "base_uri": "https://localhost:8080/",
          "height": 80
        },
        "outputId": "c50e0fb9-bebc-4377-e87d-067418acc69d"
      },
      "source": [
        "# Create an empty dataframe that we have to predict \n",
        "person = pd.DataFrame()\n",
        "\n",
        "# Create some feature values for this single row\n",
        "person['Pregnancies'] = [7]\n",
        "person['Glucose'] = [130]\n",
        "person['BloodPressure'] = [86]\n",
        "person['SkinThickness'] = [34]\n",
        "person['Insulin'] = [0]\n",
        "person['BMI'] = [33.5]\n",
        "person['DiabetesPedigreeFunction'] = [0.564]\n",
        "person['Age'] = [50]\n",
        "# View the data \n",
        "person"
      ],
      "execution_count": 46,
      "outputs": [
        {
          "output_type": "execute_result",
          "data": {
            "text/html": [
              "<div>\n",
              "<style scoped>\n",
              "    .dataframe tbody tr th:only-of-type {\n",
              "        vertical-align: middle;\n",
              "    }\n",
              "\n",
              "    .dataframe tbody tr th {\n",
              "        vertical-align: top;\n",
              "    }\n",
              "\n",
              "    .dataframe thead th {\n",
              "        text-align: right;\n",
              "    }\n",
              "</style>\n",
              "<table border=\"1\" class=\"dataframe\">\n",
              "  <thead>\n",
              "    <tr style=\"text-align: right;\">\n",
              "      <th></th>\n",
              "      <th>Pregnancies</th>\n",
              "      <th>Glucose</th>\n",
              "      <th>BloodPressure</th>\n",
              "      <th>SkinThickness</th>\n",
              "      <th>Insulin</th>\n",
              "      <th>BMI</th>\n",
              "      <th>DiabetesPedigreeFunction</th>\n",
              "      <th>Age</th>\n",
              "    </tr>\n",
              "  </thead>\n",
              "  <tbody>\n",
              "    <tr>\n",
              "      <th>0</th>\n",
              "      <td>7</td>\n",
              "      <td>130</td>\n",
              "      <td>86</td>\n",
              "      <td>34</td>\n",
              "      <td>0</td>\n",
              "      <td>33.5</td>\n",
              "      <td>0.564</td>\n",
              "      <td>50</td>\n",
              "    </tr>\n",
              "  </tbody>\n",
              "</table>\n",
              "</div>"
            ],
            "text/plain": [
              "   Pregnancies  Glucose  BloodPressure  ...   BMI  DiabetesPedigreeFunction  Age\n",
              "0            7      130             86  ...  33.5                     0.564   50\n",
              "\n",
              "[1 rows x 8 columns]"
            ]
          },
          "metadata": {
            "tags": []
          },
          "execution_count": 46
        }
      ]
    },
    {
      "cell_type": "markdown",
      "metadata": {
        "id": "PZzOSto9pSyT",
        "colab_type": "text"
      },
      "source": [
        "## Predictions made on the new Data Sample"
      ]
    },
    {
      "cell_type": "code",
      "metadata": {
        "id": "J2cvjci0pXWa",
        "colab_type": "code",
        "colab": {
          "base_uri": "https://localhost:8080/",
          "height": 34
        },
        "outputId": "c60fbd64-c9c7-42f1-ddb4-846a5be891b5"
      },
      "source": [
        "diabetic = gb.predict(person)\n",
        "if diabetic[0] == 1 :\n",
        "  print(\"The person is diabetic\")\n",
        "else:\n",
        "  print(\"The person is not diabetic\")"
      ],
      "execution_count": 52,
      "outputs": [
        {
          "output_type": "stream",
          "text": [
            "The person is diabetic\n"
          ],
          "name": "stdout"
        }
      ]
    },
    {
      "cell_type": "markdown",
      "metadata": {
        "id": "qQ8dzVsSmZdc",
        "colab_type": "text"
      },
      "source": [
        "## Multinomial Naive Bayes"
      ]
    },
    {
      "cell_type": "code",
      "metadata": {
        "id": "FUQyH8STlevK",
        "colab_type": "code",
        "colab": {
          "base_uri": "https://localhost:8080/",
          "height": 34
        },
        "outputId": "98a1d9e9-5eb1-4f23-99b5-d205d66f69ff"
      },
      "source": [
        "from sklearn.naive_bayes import MultinomialNB\n",
        "mn = MultinomialNB()\n",
        "mn.fit(X_train,y_train)"
      ],
      "execution_count": 38,
      "outputs": [
        {
          "output_type": "execute_result",
          "data": {
            "text/plain": [
              "MultinomialNB(alpha=1.0, class_prior=None, fit_prior=True)"
            ]
          },
          "metadata": {
            "tags": []
          },
          "execution_count": 38
        }
      ]
    },
    {
      "cell_type": "code",
      "metadata": {
        "id": "6aYHjFf5l37t",
        "colab_type": "code",
        "colab": {}
      },
      "source": [
        "mn_y_pred = mn.predict(X_test)"
      ],
      "execution_count": 0,
      "outputs": []
    },
    {
      "cell_type": "code",
      "metadata": {
        "id": "tS7AjzpcmEwo",
        "colab_type": "code",
        "colab": {
          "base_uri": "https://localhost:8080/",
          "height": 34
        },
        "outputId": "4db19b1b-7e7a-4e2d-e9e2-7dfcda8a4cc2"
      },
      "source": [
        "print(f'Accuracy Score of the Multinomial Naive Bayes model {np.round(accuracy_score(mn_y_pred,y_test)*100.0,2)}%')"
      ],
      "execution_count": 41,
      "outputs": [
        {
          "output_type": "stream",
          "text": [
            "Accuracy Score of the Multinomial Naive Bayes model 51.3%\n"
          ],
          "name": "stdout"
        }
      ]
    },
    {
      "cell_type": "markdown",
      "metadata": {
        "id": "UqhnVVFQmeoW",
        "colab_type": "text"
      },
      "source": [
        "##Bernoulli Naive Bayes "
      ]
    },
    {
      "cell_type": "code",
      "metadata": {
        "id": "oJPiu-1tnjQ9",
        "colab_type": "code",
        "colab": {
          "base_uri": "https://localhost:8080/",
          "height": 34
        },
        "outputId": "cfe2ef11-df12-4a7a-ca66-925f66c8ab53"
      },
      "source": [
        "from sklearn.naive_bayes import BernoulliNB\n",
        "bnb = BernoulliNB()\n",
        "bnb.fit(X_train,y_train)"
      ],
      "execution_count": 43,
      "outputs": [
        {
          "output_type": "execute_result",
          "data": {
            "text/plain": [
              "BernoulliNB(alpha=1.0, binarize=0.0, class_prior=None, fit_prior=True)"
            ]
          },
          "metadata": {
            "tags": []
          },
          "execution_count": 43
        }
      ]
    },
    {
      "cell_type": "code",
      "metadata": {
        "id": "CjyT-vK_oDIv",
        "colab_type": "code",
        "colab": {}
      },
      "source": [
        "bn_pred = bnb.predict(X_test)"
      ],
      "execution_count": 0,
      "outputs": []
    },
    {
      "cell_type": "code",
      "metadata": {
        "id": "KeP6nZIqoPQS",
        "colab_type": "code",
        "colab": {
          "base_uri": "https://localhost:8080/",
          "height": 34
        },
        "outputId": "e08c6b30-99ee-4062-b77a-6aa6078d1c6c"
      },
      "source": [
        "print(f'Accuracy Score of the Bernoulli Naive Bayes model {np.round(accuracy_score(bn_pred,y_test)*100.0,2)}%')"
      ],
      "execution_count": 45,
      "outputs": [
        {
          "output_type": "stream",
          "text": [
            "Accuracy Score of the Bernoulli Naive Bayes model 61.69%\n"
          ],
          "name": "stdout"
        }
      ]
    }
  ]
}